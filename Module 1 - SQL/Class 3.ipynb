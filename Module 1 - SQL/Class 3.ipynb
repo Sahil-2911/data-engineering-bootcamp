{
 "cells": [
  {
   "cell_type": "code",
   "execution_count": 0,
   "metadata": {
    "application/vnd.databricks.v1+cell": {
     "cellMetadata": {
      "byteLimit": 2048000,
      "rowLimit": 10000
     },
     "inputWidgets": {},
     "nuid": "2fc8204e-ee33-47c2-81be-ab928ee094c5",
     "showTitle": false,
     "tableResultSettingsMap": {},
     "title": ""
    }
   },
   "outputs": [],
   "source": [
    "%sql\n",
    "--describe table orders;\n",
    "--describe table customers;\n",
    "describe table order_details;"
   ]
  },
  {
   "cell_type": "code",
   "execution_count": 0,
   "metadata": {
    "application/vnd.databricks.v1+cell": {
     "cellMetadata": {
      "byteLimit": 2048000,
      "rowLimit": 10000
     },
     "inputWidgets": {},
     "nuid": "58c39227-1f2a-47cc-bcb9-a3b5c63bc229",
     "showTitle": false,
     "tableResultSettingsMap": {},
     "title": ""
    }
   },
   "outputs": [],
   "source": [
    "%sql\n",
    "-- Find customers who placed orders above the average order amount.\n",
    "\n",
    "SELECT c.first_name,c.last_name,o.total_amount\n",
    "FROM customers c INNER JOIN orders o ON c.customer_id = o.customer_id WHERE o.total_amount >\n",
    "(\n",
    "SELECT avg(total_amount) FROM orders\n",
    ")"
   ]
  },
  {
   "cell_type": "code",
   "execution_count": 0,
   "metadata": {
    "application/vnd.databricks.v1+cell": {
     "cellMetadata": {
      "byteLimit": 2048000,
      "rowLimit": 10000
     },
     "inputWidgets": {},
     "nuid": "3431e36c-efd7-40b4-927f-231571d9ac30",
     "showTitle": false,
     "tableResultSettingsMap": {},
     "title": ""
    }
   },
   "outputs": [],
   "source": [
    "%sql\n",
    "-- List all products that have been sold more than 2 times in total.\n",
    "SELECT od.product_name AS PRODUCT_NAME,sum(od.quantity) AS TOTAL_SOLD \n",
    "FROM order_details od GROUP BY od.product_name HAVING sum(od.quantity) > \n",
    "(SELECT 2)"
   ]
  },
  {
   "cell_type": "markdown",
   "metadata": {
    "application/vnd.databricks.v1+cell": {
     "cellMetadata": {},
     "inputWidgets": {},
     "nuid": "cab82a55-0cc0-4ea0-a949-4bd181ed56ba",
     "showTitle": false,
     "tableResultSettingsMap": {},
     "title": ""
    }
   },
   "source": [
    "CTE's Common Table Expressions\n"
   ]
  },
  {
   "cell_type": "code",
   "execution_count": 0,
   "metadata": {
    "application/vnd.databricks.v1+cell": {
     "cellMetadata": {
      "byteLimit": 2048000,
      "rowLimit": 10000
     },
     "inputWidgets": {},
     "nuid": "109952d1-d4d1-4147-a298-04e6b3fedc21",
     "showTitle": false,
     "tableResultSettingsMap": {},
     "title": ""
    }
   },
   "outputs": [],
   "source": [
    "%sql\n",
    "--  List customers and their total quantity of products ordered.\n",
    "WITH customer_details AS (\n",
    "  SELECT c.customer_id,c.first_name, sum(od.quantity) AS Total_Quantity\n",
    "  FROM customers c \n",
    "  INNER JOIN orders o ON c.customer_id = o.customer_id\n",
    "  INNER JOIN order_details od ON od.order_id = o.order_id\n",
    "  GROUP BY c.customer_id,c.first_name\n",
    ")\n",
    "\n",
    "SELECT * FROM customer_details WHERE Total_Quantity > 2 "
   ]
  },
  {
   "cell_type": "code",
   "execution_count": 0,
   "metadata": {
    "application/vnd.databricks.v1+cell": {
     "cellMetadata": {
      "byteLimit": 2048000,
      "rowLimit": 10000
     },
     "inputWidgets": {},
     "nuid": "b64be9bb-2f2b-4df1-ac68-2fb18fbf466b",
     "showTitle": false,
     "tableResultSettingsMap": {},
     "title": ""
    }
   },
   "outputs": [],
   "source": [
    "%sql\n",
    "--Find products with their total sales revenue (price * quantity).\n",
    "WITH Product_Sales AS (\n",
    "SELECT od.product_name,SUM (od.price_each * od.quantity) AS Total_Revenue\n",
    "FROM order_details od GROUP BY od.product_name\n",
    ")\n",
    "\n",
    "SELECT * FROM Product_Sales where Total_Revenue > 10000;"
   ]
  },
  {
   "cell_type": "markdown",
   "metadata": {
    "application/vnd.databricks.v1+cell": {
     "cellMetadata": {},
     "inputWidgets": {},
     "nuid": "9ad397b3-c84d-437d-ab2b-914ece2cdb64",
     "showTitle": false,
     "tableResultSettingsMap": {},
     "title": ""
    }
   },
   "source": [
    "CASE WHEN"
   ]
  },
  {
   "cell_type": "code",
   "execution_count": 0,
   "metadata": {
    "application/vnd.databricks.v1+cell": {
     "cellMetadata": {
      "byteLimit": 2048000,
      "rowLimit": 10000
     },
     "inputWidgets": {},
     "nuid": "fc586c72-c769-4036-a870-7e5dd1379d95",
     "showTitle": false,
     "tableResultSettingsMap": {},
     "title": ""
    }
   },
   "outputs": [],
   "source": [
    "%sql\n",
    "--Categorize each order as 'Small', 'Medium', 'Large'.\n",
    "SELECT o.order_id,o.total_amount,\n",
    "CASE\n",
    "    WHEN o.total_amount < 1000 THEN 'Small'\n",
    "    WHEN o.total_amount BETWEEN 1000 and 2500 THEN 'Medium'\n",
    "    ELSE 'Large'\n",
    "END AS ORDER_SIZE\n",
    "FROM orders o;    "
   ]
  },
  {
   "cell_type": "code",
   "execution_count": 0,
   "metadata": {
    "application/vnd.databricks.v1+cell": {
     "cellMetadata": {
      "byteLimit": 2048000,
      "rowLimit": 10000
     },
     "inputWidgets": {},
     "nuid": "7bb28ece-a9fa-4e6e-a346-920d859d2501",
     "showTitle": false,
     "tableResultSettingsMap": {},
     "title": ""
    }
   },
   "outputs": [],
   "source": [
    "%sql\n",
    "-- Categorize each order as 'Small', 'Medium', 'Large'.\n",
    "\n",
    "WITH categorized_orders AS (\n",
    "    SELECT o.order_id, o.total_amount, \n",
    "          CASE\n",
    "              WHEN o.total_amount < 1000 THEN 'SMALL'\n",
    "              WHEN o.total_amount BETWEEN 1000 AND 1500 THEN 'MEDIUM'\n",
    "              ELSE 'LARGE'\n",
    "          END AS ORDER_SIZE \n",
    "    FROM orders o\n",
    ")\n",
    "SELECT * \n",
    "FROM categorized_orders \n",
    "WHERE ORDER_SIZE = 'LARGE'"
   ]
  },
  {
   "cell_type": "code",
   "execution_count": 0,
   "metadata": {
    "application/vnd.databricks.v1+cell": {
     "cellMetadata": {
      "byteLimit": 2048000,
      "rowLimit": 10000
     },
     "inputWidgets": {},
     "nuid": "19ad7e33-0d4d-4f2c-a16d-ab1c478fa150",
     "showTitle": false,
     "tableResultSettingsMap": {},
     "title": ""
    }
   },
   "outputs": [],
   "source": [
    "%sql\n",
    "--Label customers as 'New' or 'Returning' based on order count.\n",
    "SELECT c.first_name,count(o.order_id) AS total_orders,\n",
    "CASE\n",
    "    WHEN count(o.order_id) = 1 THEN 'New'\n",
    "    WHEN count(o.order_id) > 1 THEN 'Returning'\n",
    "    ELSE 'No Orders'\n",
    "END AS Customer_Type\n",
    "FROM customers c \n",
    "LEFT JOIN orders o ON c.customer_id = o.customer_id\n",
    "GROUP BY c.customer_id, c.first_name"
   ]
  },
  {
   "cell_type": "markdown",
   "metadata": {
    "application/vnd.databricks.v1+cell": {
     "cellMetadata": {},
     "inputWidgets": {},
     "nuid": "2ca1bed8-6428-47dd-8aac-27ec3601cdb5",
     "showTitle": false,
     "tableResultSettingsMap": {},
     "title": ""
    }
   },
   "source": [
    "FUNCTIONS (STRING+DATE)"
   ]
  },
  {
   "cell_type": "code",
   "execution_count": 0,
   "metadata": {
    "application/vnd.databricks.v1+cell": {
     "cellMetadata": {
      "byteLimit": 2048000,
      "rowLimit": 10000
     },
     "inputWidgets": {},
     "nuid": "5cdfbbfc-53e8-4ba9-a8b2-c5707300b9c7",
     "showTitle": false,
     "tableResultSettingsMap": {},
     "title": ""
    }
   },
   "outputs": [],
   "source": [
    "%sql\n",
    "SELECT UPPER(CONCAT(c.first_name,\" \",c.last_name)) AS FULL_NAME from customers c "
   ]
  },
  {
   "cell_type": "code",
   "execution_count": 0,
   "metadata": {
    "application/vnd.databricks.v1+cell": {
     "cellMetadata": {
      "byteLimit": 2048000,
      "rowLimit": 10000
     },
     "inputWidgets": {},
     "nuid": "9d071c53-d6a5-46c4-a434-494d1d182cba",
     "showTitle": false,
     "tableResultSettingsMap": {},
     "title": ""
    }
   },
   "outputs": [],
   "source": [
    "%sql\n",
    "SELECT LOWER(c.first_name) AS FIRST_NAME_UPPERCASE from customers c "
   ]
  },
  {
   "cell_type": "code",
   "execution_count": 0,
   "metadata": {
    "application/vnd.databricks.v1+cell": {
     "cellMetadata": {
      "byteLimit": 2048000,
      "rowLimit": 10000
     },
     "inputWidgets": {},
     "nuid": "75e6a3fb-38ae-49cd-ad72-b03ca5a18def",
     "showTitle": false,
     "tableResultSettingsMap": {},
     "title": ""
    }
   },
   "outputs": [],
   "source": [
    "%sql\n",
    "SELECT UPPER(CONCAT(c.first_name,\" \",c.last_name)) AS FULL_NAME from customers c "
   ]
  },
  {
   "cell_type": "code",
   "execution_count": 0,
   "metadata": {
    "application/vnd.databricks.v1+cell": {
     "cellMetadata": {
      "byteLimit": 2048000,
      "rowLimit": 10000
     },
     "inputWidgets": {},
     "nuid": "8dbc6bb7-1bdf-4a1e-8fd0-d1e8c9dd2734",
     "showTitle": false,
     "tableResultSettingsMap": {},
     "title": ""
    }
   },
   "outputs": [],
   "source": [
    "%sql\n",
    "-- Extract month of each order & group orders by month.\n",
    "SELECT MONTH(o.order_date) AS order_month, count(o.order_id) AS _total_orders \n",
    "FROM orders o \n",
    "GROUP BY 1\n",
    "ORDER BY 1"
   ]
  },
  {
   "cell_type": "code",
   "execution_count": 0,
   "metadata": {
    "application/vnd.databricks.v1+cell": {
     "cellMetadata": {
      "byteLimit": 2048000,
      "rowLimit": 10000
     },
     "inputWidgets": {},
     "nuid": "1c99ee52-6a2e-4416-b3da-49bcb01442d7",
     "showTitle": false,
     "tableResultSettingsMap": {},
     "title": ""
    }
   },
   "outputs": [],
   "source": [
    "%sql\n",
    "-- List each customer's name + their total spend + spending category.\n",
    "WITH Customer_Spend AS(\n",
    "  SELECT c.customer_id,CONCAT(c.first_name,\" \",c.last_name) AS Full_Name,\n",
    "  sum(od.price_each * od.quantity) AS Total_Spent\n",
    "  FROM customers c\n",
    "  INNER JOIN orders o ON c.customer_id = o.customer_id\n",
    "  INNER JOIN order_details od ON od.order_id = o.order_id\n",
    "  GROUP BY c.customer_id,c.first_name,c.last_name\n",
    ")\n",
    "\n",
    "SELECT Full_Name , Total_Spent, \n",
    "       CASE\n",
    "           WHEN total_spent > 10000 THEN 'Gold'\n",
    "           WHEN total_spent BETWEEN 2000 AND 10000 THEN 'Silver'\n",
    "           ELSE 'Bronze'\n",
    "        END AS Customer_Tier\n",
    "FROM Customer_Spend;"
   ]
  }
 ],
 "metadata": {
  "application/vnd.databricks.v1+notebook": {
   "computePreferences": null,
   "dashboards": [],
   "environmentMetadata": {
    "base_environment": "",
    "environment_version": "2"
   },
   "inputWidgetPreferences": null,
   "language": "python",
   "notebookMetadata": {
    "pythonIndentUnit": 4
   },
   "notebookName": "Class 3",
   "widgets": {}
  },
  "language_info": {
   "name": "python"
  }
 },
 "nbformat": 4,
 "nbformat_minor": 0
}
